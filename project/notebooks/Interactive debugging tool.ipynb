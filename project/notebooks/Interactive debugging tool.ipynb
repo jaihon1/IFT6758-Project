{
 "cells": [
  {
   "cell_type": "code",
   "execution_count": 1,
   "id": "20d0d4cd",
   "metadata": {},
   "outputs": [],
   "source": [
    "from ift6758.data.GamesInfo import GamesInfo\n",
    "import os\n",
    "import json\n",
    "import ipywidgets as widgets\n",
    "import matplotlib.pyplot as plt"
   ]
  },
  {
   "cell_type": "code",
   "execution_count": 2,
   "id": "71b9b7b1",
   "metadata": {},
   "outputs": [
    {
     "data": {
      "text/plain": [
       "'C:\\\\Users\\\\laure\\\\Documents\\\\ift6758 - DS\\\\IFT6758-Project'"
      ]
     },
     "execution_count": 2,
     "metadata": {},
     "output_type": "execute_result"
    }
   ],
   "source": [
    "os.chdir(os.path.dirname(os.getcwd()))\n",
    "os.chdir(os.path.dirname(os.getcwd()))\n",
    "os.getcwd()"
   ]
  },
  {
   "cell_type": "markdown",
   "id": "1da2504f",
   "metadata": {},
   "source": [
    "### Load data"
   ]
  },
  {
   "cell_type": "code",
   "execution_count": 3,
   "id": "7e6e12ab",
   "metadata": {},
   "outputs": [
    {
     "name": "stdout",
     "output_type": "stream",
     "text": [
      "Loading games from 2017 located at project/games_data\\2017\n",
      "Loading games from 2018 located at project/games_data\\2018\n"
     ]
    }
   ],
   "source": [
    "game = GamesInfo([2017,2018], 'project/')"
   ]
  },
  {
   "cell_type": "markdown",
   "id": "b797eced",
   "metadata": {},
   "source": [
    "### Split data into regular and playoff games"
   ]
  },
  {
   "cell_type": "code",
   "execution_count": 5,
   "id": "d625d058",
   "metadata": {},
   "outputs": [],
   "source": [
    "regular_games = game.get_regular_games()\n",
    "playoff_games = game.get_playoff_games()"
   ]
  },
  {
   "cell_type": "markdown",
   "id": "28432486",
   "metadata": {},
   "source": [
    "### Get id from all of the games"
   ]
  },
  {
   "cell_type": "code",
   "execution_count": 6,
   "id": "8e239f30",
   "metadata": {},
   "outputs": [],
   "source": [
    "def get_ids(games_info):\n",
    "    ids = dict()\n",
    "    for season, games in games_info.items():\n",
    "        ids[season] = []\n",
    "        for game in games:\n",
    "            ids[season].append(game['gamePk'])\n",
    "    return ids\n",
    "regular_games_ids = get_ids(regular_games)\n",
    "playoff_games_ids = get_ids(playoff_games)"
   ]
  },
  {
   "cell_type": "markdown",
   "id": "cb4a0a27",
   "metadata": {},
   "source": [
    "## Create widgets\n",
    "### Dropdown and radio buttons for season choice and game type choice (regular vs playoff)"
   ]
  },
  {
   "cell_type": "code",
   "execution_count": 7,
   "id": "e39372eb",
   "metadata": {},
   "outputs": [],
   "source": [
    "season_choice=widgets.Dropdown(\n",
    "    options=game.season,\n",
    "    value=game.season[0],\n",
    "    description='Season:',\n",
    "    disabled=False,\n",
    ")\n",
    "game_type_choice = widgets.RadioButtons(\n",
    "    options=['regular', 'playoff'],\n",
    "#    value='pineapple', # Defaults to 'pineapple'\n",
    "#    layout={'width': 'max-content'}, # If the items' names are long\n",
    "    description='Game Type:',\n",
    "    disabled=False,\n",
    ")"
   ]
  },
  {
   "cell_type": "markdown",
   "id": "d6e91f58",
   "metadata": {},
   "source": [
    "### Slider for the choice of the game (by id)"
   ]
  },
  {
   "cell_type": "code",
   "execution_count": 8,
   "id": "179fb3c6",
   "metadata": {},
   "outputs": [],
   "source": [
    "if game_type_choice.value=='regular':\n",
    "    games_ids_to_display = regular_games_ids[season_choice.value]\n",
    "else:\n",
    "    games_ids_to_display = playoff_games_ids[season_choice.value]\n",
    "    \n",
    "game_choice = widgets.SelectionSlider(\n",
    "        options = games_ids_to_display,\n",
    "        description='Game Id',\n",
    "        disabled=False,\n",
    "        orientation='horizontal',\n",
    "        readout=True,\n",
    "        continuous_update=False\n",
    "    )"
   ]
  },
  {
   "cell_type": "markdown",
   "id": "bf00540f",
   "metadata": {},
   "source": [
    "### Slider for the choice of the event in the chosen game"
   ]
  },
  {
   "cell_type": "code",
   "execution_count": 9,
   "id": "c0546645",
   "metadata": {},
   "outputs": [],
   "source": [
    "event_choice = widgets.IntSlider(value=0,\n",
    "                                 step=1,\n",
    "                                 min=0,\n",
    "                                 max=len(regular_games[season_choice.value][games_ids_to_display.index(game_choice.value)]['liveData']['plays']['allPlays'])-1,\n",
    "                                 description='Event Id',\n",
    "                                 continuous_update=False)"
   ]
  },
  {
   "cell_type": "markdown",
   "id": "f1ade803",
   "metadata": {},
   "source": [
    "### Update the game id slider when choosing a season and/or a type of game"
   ]
  },
  {
   "cell_type": "code",
   "execution_count": 10,
   "id": "18960e7a",
   "metadata": {},
   "outputs": [],
   "source": [
    "def game_ids_change(sender):\n",
    "    # get the right games and ids depending on season and game type\n",
    "    if game_type_choice.value=='regular':\n",
    "        games = regular_games_ids[season_choice.value]\n",
    "    else:\n",
    "        games = playoff_games_ids[season_choice.value]\n",
    "        \n",
    "    # change the values for the game ids slider after changing season_choice or game_type_choice\n",
    "    with game_choice.hold_trait_notifications():\n",
    "        game_choice.options = games\n",
    "        \n",
    "        \n",
    "season_choice.observe(game_ids_change)\n",
    "game_type_choice.observe(game_ids_change)"
   ]
  },
  {
   "cell_type": "markdown",
   "id": "32ac4ef3",
   "metadata": {},
   "source": [
    "### Update the event id slider when the game id is modified (either because we chose a new season or game type or because we chose a new game)"
   ]
  },
  {
   "cell_type": "code",
   "execution_count": 11,
   "id": "813fa03e",
   "metadata": {},
   "outputs": [],
   "source": [
    "def event_id_change(sender):\n",
    "    # get the right games and ids depending on season and game type\n",
    "    if game_type_choice.value=='regular':\n",
    "        ids = regular_games_ids[season_choice.value]\n",
    "        games = regular_games[season_choice.value]\n",
    "    else:\n",
    "        ids = playoff_games_ids[season_choice.value]\n",
    "        games = playoff_games[season_choice.value]\n",
    "    \n",
    "    # change the values for the event slider after changing season_choice or game_type_choice or game_choice\n",
    "    with event_choice.hold_trait_notifications():\n",
    "        game = games[ids.index(game_choice.value)]\n",
    "        event_choice.value = 0\n",
    "        event_choice.max = len(game['liveData']['plays']['allPlays'])-1\n",
    "\n",
    "game_choice.observe(event_id_change, names=['value', 'options'])"
   ]
  },
  {
   "cell_type": "markdown",
   "id": "2e7a89ae",
   "metadata": {},
   "source": [
    "### Print some general information about the chosen game like the teams, who won, who lost, etc."
   ]
  },
  {
   "cell_type": "code",
   "execution_count": 12,
   "id": "4a7637b6",
   "metadata": {},
   "outputs": [],
   "source": [
    "# print somw general info about the game\n",
    "def show_general_info(season, game_type, game_id):\n",
    "    if game_type == 'regular':\n",
    "        games = regular_games[season]\n",
    "        games_id = regular_games_ids[season]\n",
    "    else:\n",
    "        games = playoff_games[season]\n",
    "        games_id = playoff_games_ids[season]\n",
    "        \n",
    "    # get the information to print    \n",
    "    game = games[games_id.index(game_id)]\n",
    "    home = game['gameData']['teams']['home']['abbreviation'] # home team\n",
    "    away = game['gameData']['teams']['away']['abbreviation'] # away team\n",
    "    goals = game['liveData']['plays']['currentPlay']['about']['goals'] # goals from both teams\n",
    "    sog = game['liveData']['linescore']['teams'] # shots on goal by both teams\n",
    "    info = [['', 'Home', 'Away'], \n",
    "            ['Teams', home, away], \n",
    "            ['Goals', goals['home'], goals['away']],\n",
    "            ['SoG', sog['home']['shotsOnGoal'], sog['away']['shotsOnGoal']]]\n",
    "    \n",
    "    # print everything\n",
    "    print(game['gameData']['datetime']['dateTime'])\n",
    "    print('Game ID: {} {} (Home) {} (Away)'.format(str(game_id)[-4:], home, away))\n",
    "    for row in info:\n",
    "        print('\\t{: <10} {: <10} {: <10}'.format(*row))\n",
    "        \n",
    "date = widgets.interactive_output(show_general_info, {'season': season_choice, 'game_type': game_type_choice, 'game_id': game_choice})"
   ]
  },
  {
   "cell_type": "markdown",
   "id": "6349a36e",
   "metadata": {},
   "source": [
    "### Load the ice rink picture"
   ]
  },
  {
   "cell_type": "code",
   "execution_count": null,
   "id": "4b9c2f1a",
   "metadata": {},
   "outputs": [],
   "source": [
    "ice_rink = plt.imread('project/figures/nhl_rink.png')"
   ]
  },
  {
   "cell_type": "markdown",
   "id": "67f01e2c",
   "metadata": {},
   "source": [
    "### Show the event on the ice rink with the coordinates and print information about the event"
   ]
  },
  {
   "cell_type": "code",
   "execution_count": 14,
   "id": "3994e23c",
   "metadata": {},
   "outputs": [],
   "source": [
    "# show ice rink with the players of the event on it\n",
    "def show_event(season, game_type, game_id, event_id):\n",
    "    if game_type == 'regular':\n",
    "        games = regular_games[season]\n",
    "        games_id = regular_games_ids[season]\n",
    "    else:\n",
    "        games = playoff_games[season]\n",
    "        games_id = playoff_games_ids[season]\n",
    "    \n",
    "    # get all of the information necessary to make the plot\n",
    "    game = games[games_id.index(game_id)]\n",
    "    home = game['gameData']['teams']['home']['abbreviation'] # the home team\n",
    "    away = game['gameData']['teams']['away']['abbreviation'] # the away team\n",
    "    events = game['liveData']['plays']['allPlays']\n",
    "    event = events[event_id] # the event information\n",
    "    description = event['result']['description'] # description of the event\n",
    "    time = event['about']['periodTime'] # time when the event happened\n",
    "    period = event['about']['period'] # which period \n",
    "    coordinates = event['coordinates'] # the coordinate of the event\n",
    "    left = home if game['liveData']['linescore']['periods'][period-1]['home']['rinkSide'] == 'left' else away # team on left side of rink\n",
    "    right = home if game['liveData']['linescore']['periods'][period-1]['home']['rinkSide'] == 'right' else away # team on right side of rink\n",
    "    \n",
    "    # create ice rink image\n",
    "    fig, ax = plt.subplots(nrows=1, ncols=1)\n",
    "    ax.imshow(ice_rink, extent=[-100,100,-42.5,42.5])\n",
    "    \n",
    "    # plot where the event happened if there are coordinates\n",
    "    if len(coordinates)>0:\n",
    "        ax.plot(coordinates['x'],coordinates['y'], 'go', markersize=8)\n",
    "    \n",
    "    ax.set_facecolor('black')\n",
    "    ax.set_xlabel('feet')\n",
    "    ax.set_ylabel('feet')\n",
    "    ax.set_title('{} \\n{} P-{}'.format(description, time, period))\n",
    "    plt.text(-65, 45, left)\n",
    "    plt.text(50, 45, right)\n",
    "    plt.show()\n",
    "    \n",
    "    # print the information about the event\n",
    "    print(json.dumps(event, indent=4, sort_keys=True))\n",
    "    \n",
    "rink = widgets.interactive_output(show_event, {'season': season_choice, 'game_type': game_type_choice, 'game_id': game_choice, 'event_id': event_choice})"
   ]
  },
  {
   "cell_type": "markdown",
   "id": "916b82a9",
   "metadata": {},
   "source": [
    "## Applet"
   ]
  },
  {
   "cell_type": "code",
   "execution_count": 16,
   "id": "56767179",
   "metadata": {},
   "outputs": [
    {
     "data": {
      "application/vnd.jupyter.widget-view+json": {
       "model_id": "20722f4edc654838af4f56eb54338e29",
       "version_major": 2,
       "version_minor": 0
      },
      "text/plain": [
       "VBox(children=(Dropdown(description='Season:', index=1, options=(2017, 2018), value=2018), RadioButtons(descri…"
      ]
     },
     "metadata": {},
     "output_type": "display_data"
    }
   ],
   "source": [
    "widgets.VBox([season_choice, game_type_choice, game_choice, date, event_choice, rink])"
   ]
  }
 ],
 "metadata": {
  "celltoolbar": "Format de la Cellule Texte Brut",
  "kernelspec": {
   "display_name": "ift6758-conda-env",
   "language": "python",
   "name": "ift6758-conda-env"
  },
  "language_info": {
   "codemirror_mode": {
    "name": "ipython",
    "version": 3
   },
   "file_extension": ".py",
   "mimetype": "text/x-python",
   "name": "python",
   "nbconvert_exporter": "python",
   "pygments_lexer": "ipython3",
   "version": "3.9.7"
  }
 },
 "nbformat": 4,
 "nbformat_minor": 5
}
