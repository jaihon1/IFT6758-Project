{
 "cells": [
  {
   "cell_type": "code",
   "execution_count": 2,
   "id": "12659730",
   "metadata": {
    "scrolled": true
   },
   "outputs": [],
   "source": [
    "import os\n",
    "import ipywidgets as widgets\n",
    "\n",
    "from comet_ml import API\n",
    "\n",
    "from ift6758.client import ServingClient\n",
    "from ift6758.game_client import GameClient"
   ]
  },
  {
   "cell_type": "code",
   "execution_count": 3,
   "id": "75741c32",
   "metadata": {},
   "outputs": [],
   "source": [
    "COMET_API_KEY = os.environ.get(\"COMET_API_KEY\")\n",
    "# COMET_API_KEY = \"hdTbgQGSQDtOoxv7ZbHrOx2OU\"\n",
    "api = API(api_key=COMET_API_KEY)"
   ]
  },
  {
   "cell_type": "code",
   "execution_count": 5,
   "id": "39a32139",
   "metadata": {},
   "outputs": [],
   "source": [
    "workspace_value = os.environ.get(\"COMET_DEFAUTL_MODEL_WORKSPACE\", 'jaihon')\n",
    "workspace = widgets.Dropdown(\n",
    "    options=[workspace_value],\n",
    "    value=workspace_value,\n",
    "    description='Workspace:',\n",
    "    disabled=False,\n",
    ")\n",
    "\n",
    "models_options = api.get_registry_model_names(workspace.value)[1:]\n",
    "model = widgets.Dropdown(\n",
    "    options=models_options,\n",
    "    value=models_options[2],\n",
    "    description='Model:',\n",
    "    disabled=False,\n",
    "\n",
    ")\n",
    "\n",
    "version_options = api.get_registry_model_versions(workspace.value, model.value)\n",
    "versions = widgets.Text(\n",
    "    placeholder='Version model',\n",
    "    description='Version:',\n",
    "    disabled=False,\n",
    "\n",
    ")\n",
    "\n",
    "download_button = widgets.Button(\n",
    "    description='Download',\n",
    "    disabled=False,\n",
    "    button_style='info', # 'success', 'info', 'warning', 'danger' or ''\n",
    "    tooltip='Downloads the model',\n",
    "    icon='download', # (FontAwesome names without the `fa-` prefix)\n",
    "\n",
    ")"
   ]
  },
  {
   "cell_type": "code",
   "execution_count": 6,
   "id": "0d745435",
   "metadata": {},
   "outputs": [],
   "source": [
    "models_widgets = widgets.HBox([workspace, model, versions, download_button])"
   ]
  },
  {
   "cell_type": "code",
   "execution_count": 7,
   "id": "ce6a300c",
   "metadata": {},
   "outputs": [],
   "source": [
    "game_id_input = versions = widgets.Text(\n",
    "    placeholder='game ID',\n",
    "    description='Game ID:',\n",
    "    disabled=False,\n",
    ")\n",
    "upload_game_info = widgets.Button(\n",
    "    description='Update Predictions',\n",
    "    disabled=False,\n",
    "    button_style='success', # 'success', 'info', 'warning', 'danger' or ''\n",
    "    tooltip='Fetch new game information and update predictions',\n",
    "    icon='refresh', # (FontAwesome names without the `fa-` prefix)\n",
    ")"
   ]
  },
  {
   "cell_type": "code",
   "execution_count": 8,
   "id": "93d1c20b",
   "metadata": {},
   "outputs": [],
   "source": [
    "game_widgets = widgets.HBox([game_id_input, upload_game_info])"
   ]
  },
  {
   "cell_type": "code",
   "execution_count": 9,
   "id": "9783ea3c",
   "metadata": {},
   "outputs": [],
   "source": [
    "all_widgets = widgets.VBox([models_widgets,game_widgets])"
   ]
  },
  {
   "cell_type": "code",
   "execution_count": 10,
   "id": "dfb2ec64",
   "metadata": {},
   "outputs": [
    {
     "data": {
      "application/vnd.jupyter.widget-view+json": {
       "model_id": "67d07c99c1204eaa98fc86b73db201aa",
       "version_major": 2,
       "version_minor": 0
      },
      "text/plain": [
       "VBox(children=(HBox(children=(Dropdown(description='Workspace:', options=('jaihon',), value='jaihon'), Dropdow…"
      ]
     },
     "metadata": {},
     "output_type": "display_data"
    }
   ],
   "source": [
    "all_widgets"
   ]
  },
  {
   "cell_type": "code",
   "execution_count": null,
   "id": "b56af3c0",
   "metadata": {},
   "outputs": [],
   "source": []
  },
  {
   "cell_type": "code",
   "execution_count": null,
   "id": "c6e4cb7e",
   "metadata": {},
   "outputs": [],
   "source": []
  }
 ],
 "metadata": {
  "kernelspec": {
   "display_name": "ift6758-venv",
   "language": "python",
   "name": "ift6758-venv"
  },
  "language_info": {
   "codemirror_mode": {
    "name": "ipython",
    "version": 3
   },
   "file_extension": ".py",
   "mimetype": "text/x-python",
   "name": "python",
   "nbconvert_exporter": "python",
   "pygments_lexer": "ipython3",
   "version": "3.8.8"
  }
 },
 "nbformat": 4,
 "nbformat_minor": 5
}
