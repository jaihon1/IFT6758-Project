{
 "cells": [
  {
   "cell_type": "code",
   "execution_count": 1,
   "id": "12659730",
   "metadata": {
    "scrolled": true
   },
   "outputs": [],
   "source": [
    "import os\n",
    "import ipywidgets as widgets\n",
    "from IPython.display import display\n",
    "\n",
    "from comet_ml import API\n",
    "import pandas as pd\n",
    "\n",
    "from ift6758.client import ServingClient\n",
    "from ift6758.game_client import GameClient"
   ]
  },
  {
   "cell_type": "code",
   "execution_count": 2,
   "id": "75741c32",
   "metadata": {},
   "outputs": [],
   "source": [
    "COMET_API_KEY = os.environ.get(\"COMET_API_KEY\")\n",
    "# COMET_API_KEY = \"hdTbgQGSQDtOoxv7ZbHrOx2OU\"\n",
    "IP = os.environ.get(\"IP\", \"127.0.0.1\")\n",
    "PORT = os.environ.get(\"PORT\", \"2000\")\n",
    "data = pd.DataFrame()\n",
    "previous_game_id = None"
   ]
  },
  {
   "cell_type": "code",
   "execution_count": 3,
   "id": "71e60305",
   "metadata": {},
   "outputs": [],
   "source": [
    "api = API(api_key=COMET_API_KEY)\n",
    "game_client = GameClient()\n",
    "serving_client = ServingClient(ip=IP, port=PORT)"
   ]
  },
  {
   "cell_type": "code",
   "execution_count": 4,
   "id": "39a32139",
   "metadata": {},
   "outputs": [],
   "source": [
    "workspace_value = os.environ.get(\"COMET_DEFAUTL_MODEL_WORKSPACE\", 'jaihon')\n",
    "workspace_dropdown = widgets.Dropdown(\n",
    "    options=[workspace_value],\n",
    "    value=workspace_value,\n",
    "    description='Workspace:',\n",
    "    disabled=False,\n",
    ")\n",
    "\n",
    "models_options = api.get_registry_model_names(workspace_dropdown.value)[1:]\n",
    "model_dropdown = widgets.Dropdown(\n",
    "    options=models_options,\n",
    "    value=models_options[2],\n",
    "    description='Model:',\n",
    "    disabled=False,\n",
    "\n",
    ")\n",
    "\n",
    "version_options = api.get_registry_model_versions(workspace_dropdown.value, model_dropdown.value)\n",
    "version_input = widgets.Text(\n",
    "    placeholder='Version model',\n",
    "    description='Version:',\n",
    "    disabled=False,\n",
    "\n",
    ")\n",
    "\n",
    "download_button = widgets.Button(\n",
    "    description='Download',\n",
    "    disabled=False,\n",
    "    button_style='info', # 'success', 'info', 'warning', 'danger' or ''\n",
    "    tooltip='Downloads the model',\n",
    "    icon='download', # (FontAwesome names without the `fa-` prefix)\n",
    ")\n",
    "serving_client.download_registry_model(workspace_dropdown.value, model_dropdown.value, version_input.value)\n",
    "previous_model = model_dropdown.value"
   ]
  },
  {
   "cell_type": "code",
   "execution_count": 5,
   "id": "0d745435",
   "metadata": {},
   "outputs": [],
   "source": [
    "models_widgets = widgets.HBox([workspace_dropdown, model_dropdown, version_input, download_button])"
   ]
  },
  {
   "cell_type": "code",
   "execution_count": 6,
   "id": "ce6a300c",
   "metadata": {},
   "outputs": [],
   "source": [
    "game_id_input = versions = widgets.Text(\n",
    "    placeholder='game ID',\n",
    "    description='Game ID:',\n",
    "    disabled=False,\n",
    ")\n",
    "upload_game_info = widgets.Button(\n",
    "    description='Update Predictions',\n",
    "    disabled=False,\n",
    "    button_style='success', # 'success', 'info', 'warning', 'danger' or ''\n",
    "    tooltip='Fetch new game information and update predictions',\n",
    "    icon='refresh', # (FontAwesome names without the `fa-` prefix)\n",
    ")"
   ]
  },
  {
   "cell_type": "code",
   "execution_count": 7,
   "id": "93d1c20b",
   "metadata": {},
   "outputs": [],
   "source": [
    "game_widgets = widgets.HBox([game_id_input, upload_game_info])"
   ]
  },
  {
   "cell_type": "code",
   "execution_count": 8,
   "id": "dfb2ec64",
   "metadata": {},
   "outputs": [],
   "source": [
    "def update_model(sender):\n",
    "    workspace = workspace_dropdown.value\n",
    "    model = model_dropdown.value\n",
    "    version = version_input.value\n",
    "    serving_client.download_registry_model(workspace, model, version)\n",
    "download_button.on_click(update_model)"
   ]
  },
  {
   "cell_type": "code",
   "execution_count": 9,
   "id": "b56af3c0",
   "metadata": {},
   "outputs": [],
   "source": [
    "def update_predictions(sender):\n",
    "    global data\n",
    "    global previous_model\n",
    "    global previous_game_id\n",
    "    game_id = game_id_input.value\n",
    "    new_data = game_client.ping_game(game_id)\n",
    "    if previous_game_id != game_id:\n",
    "        previous_game_id = game_id\n",
    "        data = pd.DataFrame()\n",
    "    if previous_model != model_dropdown.value:\n",
    "        previous_model = model_dropdown.value\n",
    "        all_data = data.drop(columns=['pred']).append(new_data)\n",
    "        pred = serving_client.predict(all_data)\n",
    "        all_data['pred'] = pred\n",
    "        data = all_data\n",
    "    elif len(new_data)!=0:\n",
    "        pred = serving_client.predict(new_data)\n",
    "        new_data['pred'] = pred\n",
    "        data=data.append(new_data)\n",
    "        data.reset_index(drop=True, inplace=True)\n",
    "upload_game_info.on_click(update_predictions)"
   ]
  },
  {
   "cell_type": "code",
   "execution_count": 10,
   "id": "8fdf001e",
   "metadata": {},
   "outputs": [],
   "source": [
    "def show_predictions(b):\n",
    "    with output_pred:\n",
    "        output_pred.clear_output()\n",
    "        if game_id_input.value != '' and len(data)!=0:\n",
    "            game_id = game_id_input.value\n",
    "            # get the information to print    \n",
    "            home = game_client.home # home team\n",
    "            away = game_client.away # away team\n",
    "            pred_home = data[data[('home',)]==1]['pred'].astype(float).sum()\n",
    "            pred_away = data[data[('away',)]==1]['pred'].astype(float).sum()\n",
    "            info = [['', f\"Period:{game_client.period}\", f\"Time Left: \"+game_client.time_left],\n",
    "                    ['', 'Home', 'Away'], \n",
    "                    ['Teams', home, away],\n",
    "                    ['Expected Goals', f\"{pred_home:.4f}\", f\"{pred_away:.4f}\"]\n",
    "                   ]\n",
    "\n",
    "            # print everything\n",
    "            print(game_client.dateTime)\n",
    "            print('Game ID: {} {} (Home) {} (Away)'.format(str(game_id)[-4:], home, away))\n",
    "            for row in info:\n",
    "                print('\\t{: <15} {: <15} {: <15}'.format(*row))\n",
    "            \n",
    "            print()\n",
    "            print(\"Predictions were done with these data:\")\n",
    "            print(data)\n",
    "        elif len(data)==0 and game_id_input!='':\n",
    "            print(\"Game data empty. Either the game does not exist or it hasn't happened yet.\")\n",
    "            \n",
    "output_pred = widgets.Output()\n",
    "upload_game_info.on_click(show_predictions)"
   ]
  },
  {
   "cell_type": "code",
   "execution_count": 11,
   "id": "9783ea3c",
   "metadata": {},
   "outputs": [],
   "source": [
    "all_widgets = widgets.VBox([models_widgets,game_widgets, output_pred])"
   ]
  },
  {
   "cell_type": "code",
   "execution_count": 12,
   "id": "c6e4cb7e",
   "metadata": {},
   "outputs": [
    {
     "data": {
      "application/vnd.jupyter.widget-view+json": {
       "model_id": "4f5d7aa3599045ec89feada6c25ec6ba",
       "version_major": 2,
       "version_minor": 0
      },
      "text/plain": [
       "VBox(children=(HBox(children=(Dropdown(description='Workspace:', options=('jaihon',), value='jaihon'), Dropdow…"
      ]
     },
     "metadata": {},
     "output_type": "display_data"
    }
   ],
   "source": [
    "display(all_widgets)"
   ]
  },
  {
   "cell_type": "code",
   "execution_count": null,
   "id": "ddecd433",
   "metadata": {},
   "outputs": [],
   "source": []
  }
 ],
 "metadata": {
  "kernelspec": {
   "display_name": "ift6758-venv",
   "language": "python",
   "name": "ift6758-venv"
  },
  "language_info": {
   "codemirror_mode": {
    "name": "ipython",
    "version": 3
   },
   "file_extension": ".py",
   "mimetype": "text/x-python",
   "name": "python",
   "nbconvert_exporter": "python",
   "pygments_lexer": "ipython3",
   "version": "3.8.8"
  }
 },
 "nbformat": 4,
 "nbformat_minor": 5
}
